{
 "cells": [
  {
   "cell_type": "code",
   "execution_count": 39,
   "metadata": {},
   "outputs": [],
   "source": [
    "from scipy.optimize import ridder\n",
    "import torch\n",
    "import matplotlib.pyplot as plt\n",
    "from MINE import MINE\n",
    "from tqdm import tqdm\n",
    "from torch.autograd import Variable\n",
    "import numpy as np\n",
    "\n",
    "import random\n",
    "import os\n",
    "def seed_torch(seed=1029):\n",
    "\trandom.seed(seed)\n",
    "\tos.environ['PYTHONHASHSEED'] = str(seed) # 为了禁止hash随机化，使得实验可复现\n",
    "\tnp.random.seed(seed)\n",
    "\ttorch.manual_seed(seed)\n",
    "\ttorch.cuda.manual_seed(seed)\n",
    "\ttorch.cuda.manual_seed_all(seed) # if you are using multi-GPU.\n",
    "\ttorch.backends.cudnn.benchmark = False\n",
    "\ttorch.backends.cudnn.deterministic = True\n",
    "seed_torch()\n",
    "\n",
    "model = MINE(3, 2)\n",
    "optimizer = torch.optim.Adam(model.parameters(), lr=0.01)"
   ]
  },
  {
   "cell_type": "code",
   "execution_count": 40,
   "metadata": {},
   "outputs": [],
   "source": [
    "#生成联合高斯x,y\n",
    "cov = [[1,.5,.5,.5,.5],\n",
    "       [.5,1,.5,.5,.5],\n",
    "       [.5,.5,1,.5,.5],\n",
    "       [.5,.5,.5,1,.5],\n",
    "       [.5,.5,.5,.5,1]]\n",
    "cov_p = [[1,.5,.5,0,0],\n",
    "         [.5,1,.5,0,0],\n",
    "         [.5,.5,1,0,0],\n",
    "         [0,0,0,1,.5],\n",
    "         [0,0,0,.5,1]]\n",
    "gaussian_xy = np.random.multivariate_normal((0,0,0,0,0),cov,20000)\n",
    "x = gaussian_xy[:,0:3]\n",
    "y = gaussian_xy[:,3:5]\n",
    "y_shuffled = np.random.permutation(y)\n",
    "\n",
    "x = Variable(torch.from_numpy(x).type(torch.FloatTensor), requires_grad=False)#训练数据都是计算图里的叶节点，不需要梯度\n",
    "y = Variable(torch.from_numpy(y).type(torch.FloatTensor), requires_grad=False)\n",
    "y_shuffled = Variable(torch.from_numpy(y_shuffled).type(torch.FloatTensor), requires_grad=False)"
   ]
  },
  {
   "cell_type": "code",
   "execution_count": 41,
   "metadata": {},
   "outputs": [
    {
     "name": "stderr",
     "output_type": "stream",
     "text": [
      "  0%|          | 0/400 [00:00<?, ?it/s]C:\\Users\\lenovo\\AppData\\Roaming\\Python\\Python37\\site-packages\\ipykernel_launcher.py:7: RuntimeWarning: divide by zero encountered in log\n",
      "  import sys\n",
      "100%|██████████| 400/400 [02:28<00:00,  2.70it/s]\n"
     ]
    }
   ],
   "source": [
    "#自定义数值求解函数 done\n",
    "def solve_f_star(y):\n",
    "    x = []\n",
    "    for y_ in y[:,0]:\n",
    "        y_ = y_.item()\n",
    "        def f_star(x):\n",
    "            return np.log(x)-1/(x+1e-12)+1-y_\n",
    "        res = ridder(f_star,0,1 if y_<0 else np.exp(y_)+1,xtol=1e-2)\n",
    "        x.append(res)\n",
    "    return torch.tensor(x, requires_grad=False)\n",
    "\n",
    "skl = []\n",
    "num_epoch = 400\n",
    "for epoch in tqdm(range(num_epoch)):\n",
    "    pred_xy = model(x, y)\n",
    "    pred_x_y = model(x, y_shuffled)\n",
    "\n",
    "    loss1 = - torch.mean(pred_xy)\n",
    "    t1 = solve_f_star(pred_x_y).reshape((-1,1))\n",
    "    loss2 = torch.mean(t1*pred_x_y)\n",
    "    loss2_actual = torch.mean(t1-1+torch.log(t1))\n",
    "    '''\n",
    "    plot_loss.append(loss1.data.numpy())\n",
    "    print(loss1.item())\n",
    "    '''\n",
    "    loss = loss1 + loss2\n",
    "    skl.append((-loss1-loss2_actual).data.numpy())\n",
    "    model.zero_grad()\n",
    "    loss.backward()\n",
    "    optimizer.step()\n"
   ]
  },
  {
   "cell_type": "code",
   "execution_count": 42,
   "metadata": {},
   "outputs": [
    {
     "data": {
      "text/plain": [
       "[<matplotlib.lines.Line2D at 0x1d749dac448>]"
      ]
     },
     "execution_count": 42,
     "metadata": {},
     "output_type": "execute_result"
    },
    {
     "data": {
      "image/png": "[encoded data removed]",
      "text/plain": [
       "<Figure size 432x288 with 1 Axes>"
      ]
     },
     "metadata": {
      "needs_background": "light"
     },
     "output_type": "display_data"
    }
   ],
   "source": [
    "plot_x = np.arange(len(skl))\n",
    "plot_y = np.array(skl)\n",
    "plt.plot(plot_x, plot_y)"
   ]
  },
  {
   "cell_type": "code",
   "execution_count": 43,
   "metadata": {},
   "outputs": [
    {
     "data": {
      "text/plain": [
       "0.34657359027997253"
      ]
     },
     "execution_count": 43,
     "metadata": {},
     "output_type": "execute_result"
    }
   ],
   "source": [
    "cov = np.array(cov)\n",
    "cov_p = np.array(cov_p)\n",
    "res = 0.5*(np.log(np.linalg.det(cov_p))-np.log(np.linalg.det(cov))+(np.linalg.inv(cov_p).dot(cov)-np.identity(5)).trace())\n",
    "res"
   ]
  }
 ],
 "metadata": {
  "kernelspec": {
   "display_name": "Python 3",
   "language": "python",
   "name": "python3"
  },
  "language_info": {
   "codemirror_mode": {
    "name": "ipython",
    "version": 3
   },
   "file_extension": ".py",
   "mimetype": "text/x-python",
   "name": "python",
   "nbconvert_exporter": "python",
   "pygments_lexer": "ipython3",
   "version": "3.7.8"
  },
  "orig_nbformat": 4
 },
 "nbformat": 4,
 "nbformat_minor": 2
}
