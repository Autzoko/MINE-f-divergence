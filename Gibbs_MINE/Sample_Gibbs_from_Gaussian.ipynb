{
 "cells": [
  {
   "cell_type": "code",
   "execution_count": 24,
   "metadata": {},
   "outputs": [],
   "source": [
    "import numpy as np\n",
    "\n",
    "p = 10\n",
    "sample_size = 100000\n",
    "beta = 10000\n",
    "sigma_q = 0.05\n",
    "N = 20\n",
    "#\n",
    "lambda_ = 1/(2*sigma_q**2*beta)\n",
    "sigma_sq = N/(2*beta)\n",
    "#\n",
    "import json\n",
    "with open('data/gibbs_data_p_is_{0}.json'.format(p), 'r') as datafile:\n",
    "    data = json.load(datafile)\n",
    "i = 2\n",
    "S = np.array(data[i]['S'])\n",
    "X = S[:,:-1]\n",
    "Y = S[:,-1]\n",
    "################################################################\n",
    "original_random_state = np.random.get_state()\n",
    "np.random.seed(20230929)\n",
    "#gaussian distribution sampler: normal(mean=0.0, variance_sqrt=1.0, size=None) s = np.random.normal(0,1)\n",
    "#teacher model\n",
    "#dimension of x: d（固定不变）10->5\n",
    "d = 5\n",
    "#number of training samples（固定不变）100->20\n",
    "N = 20\n",
    "#dimension of hypothesis space\n",
    "p0 = 5 #dimension of teacher model（固定不变）\n",
    "p = p #dimension of student model（可变）#p=200\n",
    "p_max = 2000 #upper bound of dimension of student model（固定不变）\n",
    "#point-wise activate function f:tanh\n",
    "#variance of random noise added to y\n",
    "sigma = 0.1\n",
    "\n",
    "#random feature matrix\n",
    "F0 = np.random.normal(0,1,(d,p0)) #生成teacher model的random feature matrix F0（固定不变）\n",
    "F = np.random.normal(0,1,(d,p_max))[:,:p] #生成student model的random feature matrix F(d*p)。先按照p_max的大小生成，再根据当前维度p的不同截取前p列形成每个p对应的F。\n",
    "    #注意，这个F对于一般的神经网络是可训练的，但是对于RFM为了简化直接设定为固定值。（固定不变）\n",
    "#teacher parameter w(p) with lambda = ? until each dim of Y~1e0\n",
    "lambda_ = 0.0001\n",
    "#w_0 = np.random.normal(0,sigma/np.sqrt(lambda_*N),p)\n",
    "w_0 = np.random.normal(0,1,p0) #生成teacher model的权重向量（固定不变）\n",
    "#w_0 = np.concatenate((w_0,np.zeros(5)),axis = 0)\n",
    "X_rf = np.tanh(X.dot(F)/np.sqrt(d))\n",
    "np.random.set_state(original_random_state)\n",
    "################################################################\n",
    "B = X_rf\n",
    "#\n",
    "W = np.linalg.inv(lambda_*N*np.identity(p)+B.T.dot(B)).dot(B.T).dot(Y)\n",
    "Sigma = sigma_sq*np.linalg.inv(lambda_*N*np.identity(p)+B.T.dot(B))"
   ]
  },
  {
   "cell_type": "code",
   "execution_count": 25,
   "metadata": {},
   "outputs": [
    {
     "name": "stdout",
     "output_type": "stream",
     "text": [
      "[[ 0.47021674  0.72240912 -0.07385836 ...  0.20311294 -0.02380433\n",
      "  -0.05699841]\n",
      " [ 0.48293704  0.6810849  -0.10493172 ...  0.36532354  0.25950019\n",
      "  -0.04956866]\n",
      " [ 0.42454941  0.78341897 -0.21180918 ...  0.22760612 -0.02753982\n",
      "  -0.14836051]\n",
      " ...\n",
      " [ 0.44650187  0.70500228 -0.18957355 ...  0.23182196 -0.22995743\n",
      "  -0.15954124]\n",
      " [ 0.45701894  0.59816182 -0.14388509 ...  0.4420852   0.08367528\n",
      "  -0.14216228]\n",
      " [ 0.429471    0.63781701 -0.11628871 ...  0.21106492 -0.19318002\n",
      "  -0.18130744]]\n"
     ]
    },
    {
     "data": {
      "text/plain": [
       "[0.49341270746819577,\n",
       " 0.46468983344930076,\n",
       " 0.007458138833922351,\n",
       " 0.19441497125302565,\n",
       " 0.20505205410057423,\n",
       " -0.41381544104515644,\n",
       " 0.14688978710595987,\n",
       " 0.4807835289179572,\n",
       " -0.08468309078461991,\n",
       " -0.04515984315972421]"
      ]
     },
     "execution_count": 25,
     "metadata": {},
     "output_type": "execute_result"
    }
   ],
   "source": [
    "w_s = np.random.multivariate_normal(W,Sigma,10000)\n",
    "print(w_s)\n",
    "data[i]['w']"
   ]
  }
 ],
 "metadata": {
  "kernelspec": {
   "display_name": "Python 3",
   "language": "python",
   "name": "python3"
  },
  "language_info": {
   "codemirror_mode": {
    "name": "ipython",
    "version": 3
   },
   "file_extension": ".py",
   "mimetype": "text/x-python",
   "name": "python",
   "nbconvert_exporter": "python",
   "pygments_lexer": "ipython3",
   "version": "3.7.8"
  },
  "orig_nbformat": 4
 },
 "nbformat": 4,
 "nbformat_minor": 2
}
