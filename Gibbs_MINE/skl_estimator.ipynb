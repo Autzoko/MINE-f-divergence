{
 "cells": [
  {
   "cell_type": "code",
   "execution_count": 73,
   "metadata": {},
   "outputs": [
    {
     "data": {
      "text/plain": [
       "50000"
      ]
     },
     "execution_count": 73,
     "metadata": {},
     "output_type": "execute_result"
    }
   ],
   "source": [
    "from scipy.optimize import ridder\n",
    "import torch\n",
    "import matplotlib.pyplot as plt\n",
    "from Gibbs import generate_sw_tuples_batch\n",
    "from MINE import MINE\n",
    "from tqdm import tqdm\n",
    "from torch.autograd import Variable\n",
    "import numpy as np\n",
    "\n",
    "import random\n",
    "import os\n",
    "seed = 1\n",
    "def seed_torch(seed=1029):\n",
    "\trandom.seed(seed)\n",
    "\tos.environ['PYTHONHASHSEED'] = str(seed) # 为了禁止hash随机化，使得实验可复现\n",
    "\tnp.random.seed(seed)\n",
    "\ttorch.manual_seed(seed)\n",
    "\ttorch.cuda.manual_seed(seed)\n",
    "\ttorch.cuda.manual_seed_all(seed) # if you are using multi-GPU.\n",
    "\ttorch.backends.cudnn.benchmark = False\n",
    "\ttorch.backends.cudnn.deterministic = True\n",
    "seed_torch(seed)\n",
    "\n",
    "p_current = 4 #p值\n",
    "sample_size = 50000 #用来估计的样本数\n",
    "model = MINE(6, p_current)\n",
    "optimizer = torch.optim.Adam(model.parameters(), lr=0.01)\n",
    "plot_loss = []\n",
    "\n",
    "import json\n",
    "with open('data/gibbs_data_p_is_{0}.json'.format(p_current), 'r') as datafile:\n",
    "    data = json.load(datafile)\n",
    "len(data)"
   ]
  },
  {
   "cell_type": "code",
   "execution_count": 74,
   "metadata": {},
   "outputs": [
    {
     "name": "stdout",
     "output_type": "stream",
     "text": [
      "MINE(\n",
      "  (fc1): Linear(in_features=6, out_features=16, bias=True)\n",
      "  (fc2): Linear(in_features=4, out_features=16, bias=True)\n",
      "  (fc3): Linear(in_features=16, out_features=1, bias=True)\n",
      ")\n"
     ]
    }
   ],
   "source": [
    "\n",
    "model=torch.load('./model_e6000.pth',map_location='cpu')\n",
    "\n",
    "#model = torch.load('./model_ori6000.pth')\n",
    "optimizer = torch.optim.Adam(model.parameters(), lr=0.01)\n",
    "print(model)"
   ]
  },
  {
   "cell_type": "code",
   "execution_count": 75,
   "metadata": {},
   "outputs": [
    {
     "name": "stderr",
     "output_type": "stream",
     "text": [
      "  0%|          | 0/100 [00:00<?, ?it/s]C:\\Users\\lenovo\\AppData\\Roaming\\Python\\Python37\\site-packages\\ipykernel_launcher.py:14: RuntimeWarning: divide by zero encountered in log\n",
      "  \n",
      "100%|██████████| 100/100 [01:57<00:00,  1.17s/it]\n"
     ]
    },
    {
     "data": {
      "text/plain": [
       "array(-96.75567, dtype=float32)"
      ]
     },
     "execution_count": 75,
     "metadata": {},
     "output_type": "execute_result"
    },
    {
     "data": {
      "image/png": "[encoded data removed]",
      "text/plain": [
       "<Figure size 432x288 with 1 Axes>"
      ]
     },
     "metadata": {
      "needs_background": "light"
     },
     "output_type": "display_data"
    }
   ],
   "source": [
    "\n",
    "S = np.array([data[i]['S'][0] for i in range(len(data))][0:sample_size])\n",
    "w = np.array([data[i]['w'] for i in range(len(data))][0:sample_size])\n",
    "w_shuffle = np.random.permutation(w)\n",
    "S_sample = Variable(torch.from_numpy(S).type(torch.FloatTensor), requires_grad=True)\n",
    "w_sample = Variable(torch.from_numpy(w).type(torch.FloatTensor), requires_grad=True)\n",
    "w_shuffle_sample = Variable(torch.from_numpy(w_shuffle).type(torch.FloatTensor), requires_grad=True)\n",
    "\n",
    "#自定义数值求解函数 done\n",
    "def solve_f_star(y):\n",
    "    x = []\n",
    "    for y_ in y[:,0]:\n",
    "        y_ = y_.item()\n",
    "        def f_star(x):\n",
    "            return np.log(x)-1/(x+1e-12)+1-y_\n",
    "        res = ridder(f_star,0,1 if y_<0 else np.exp(y_)+1,xtol=1e-12)\n",
    "        x.append(res)\n",
    "    return torch.tensor(x, requires_grad=False)\n",
    "\n",
    "skl = []\n",
    "num_epoch = 100\n",
    "for epoch in tqdm(range(num_epoch)):\n",
    "    pred_xy = model(S_sample, w_sample)\n",
    "    pred_x_y = model(S_sample, w_shuffle_sample)\n",
    "    \n",
    "    loss1 = - torch.mean(pred_xy)\n",
    "    t1 = solve_f_star(pred_x_y).reshape((-1,1))\n",
    "    loss2 = torch.mean(t1*pred_x_y)\n",
    "    loss2_actual = torch.mean(t1-1+torch.log(t1))\n",
    "    loss = loss1 + loss2\n",
    "    skl.append((-loss1-loss2_actual).data.numpy())\n",
    "    model.zero_grad()\n",
    "    loss.backward()\n",
    "    '''\n",
    "    # 收集每个可学习参数的梯度\n",
    "    grads = {}\n",
    "    for name, param in model.named_parameters():\n",
    "        if param.requires_grad and param.grad is not None:\n",
    "            grads[name] = param.grad\n",
    "\n",
    "    # 输出梯度\n",
    "    print(grads)\n",
    "'''\n",
    "    optimizer.step()\n",
    "\n",
    "x_plot = [x for x in range(num_epoch)]\n",
    "plt.plot(x_plot, skl)\n",
    "################################################################################################\n",
    "import json\n",
    "class NumpyArrayEncoder(json.JSONEncoder):\n",
    "    def default(self, obj):\n",
    "        if isinstance(obj, np.ndarray):\n",
    "            return obj.tolist()\n",
    "        return json.JSONEncoder.default(self, obj)\n",
    "with open(\"skl_result/p={0}_seed={1}.json\".format(p_current,seed), \"w\") as outfile:\n",
    "    outfile.write(json.dumps(skl,cls=NumpyArrayEncoder))\n",
    "################################################################################################\n",
    "skl[len(skl)-1]"
   ]
  },
  {
   "cell_type": "code",
   "execution_count": 76,
   "metadata": {},
   "outputs": [
    {
     "ename": "IndexError",
     "evalue": "list index out of range",
     "output_type": "error",
     "traceback": [
      "\u001b[1;31m---------------------------------------------------------------------------\u001b[0m",
      "\u001b[1;31mIndexError\u001b[0m                                Traceback (most recent call last)",
      "\u001b[1;32m~\\AppData\\Local\\Temp\\ipykernel_29304\\2032483833.py\u001b[0m in \u001b[0;36m<module>\u001b[1;34m\u001b[0m\n\u001b[1;32m----> 1\u001b[1;33m \u001b[0mskl\u001b[0m\u001b[1;33m[\u001b[0m\u001b[1;36m8000\u001b[0m\u001b[1;33m]\u001b[0m\u001b[1;33m\u001b[0m\u001b[1;33m\u001b[0m\u001b[0m\n\u001b[0m",
      "\u001b[1;31mIndexError\u001b[0m: list index out of range"
     ]
    }
   ],
   "source": [
    "skl[8000]"
   ]
  },
  {
   "cell_type": "code",
   "execution_count": null,
   "metadata": {},
   "outputs": [
    {
     "name": "stderr",
     "output_type": "stream",
     "text": [
      "  0%|          | 0/4000 [00:00<?, ?it/s]C:\\Users\\lenovo\\AppData\\Roaming\\Python\\Python37\\site-packages\\ipykernel_launcher.py:14: RuntimeWarning: divide by zero encountered in log\n",
      "  \n",
      "100%|██████████| 4000/4000 [2:24:02<00:00,  2.16s/it]  \n"
     ]
    },
    {
     "data": {
      "text/plain": [
       "array(0.1660285, dtype=float32)"
      ]
     },
     "execution_count": 23,
     "metadata": {},
     "output_type": "execute_result"
    },
    {
     "data": {
      "image/png": "[encoded data removed]",
      "text/plain": [
       "<Figure size 432x288 with 1 Axes>"
      ]
     },
     "metadata": {
      "needs_background": "light"
     },
     "output_type": "display_data"
    }
   ],
   "source": [
    "extra = 4000\n",
    "for epoch in tqdm(range(num_epoch,num_epoch+extra)):\n",
    "    pred_xy = model(S_sample, w_sample)\n",
    "    pred_x_y = model(S_sample, w_shuffle_sample)\n",
    "    \n",
    "    loss1 = - torch.mean(pred_xy)\n",
    "    t1 = solve_f_star(pred_x_y).reshape((-1,1))\n",
    "    loss2 = torch.mean(t1*pred_x_y)\n",
    "    loss2_actual = torch.mean(t1-1+torch.log(t1))\n",
    "    loss = loss1 + loss2\n",
    "    skl.append((-loss1-loss2_actual).data.numpy())\n",
    "    model.zero_grad()\n",
    "    loss.backward()\n",
    "    optimizer.step()\n",
    "\n",
    "x_plot = [x for x in range(num_epoch+extra)]\n",
    "plt.plot(x_plot, skl)\n",
    "skl[len(skl)-1]"
   ]
  }
 ],
 "metadata": {
  "kernelspec": {
   "display_name": "Python 3",
   "language": "python",
   "name": "python3"
  },
  "language_info": {
   "codemirror_mode": {
    "name": "ipython",
    "version": 3
   },
   "file_extension": ".py",
   "mimetype": "text/x-python",
   "name": "python",
   "nbconvert_exporter": "python",
   "pygments_lexer": "ipython3",
   "version": "3.7.8"
  },
  "orig_nbformat": 4
 },
 "nbformat": 4,
 "nbformat_minor": 2
}
