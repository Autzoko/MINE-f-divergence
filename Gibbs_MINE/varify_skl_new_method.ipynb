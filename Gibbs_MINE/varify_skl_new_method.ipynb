{
 "cells": [
  {
   "cell_type": "code",
   "execution_count": 139,
   "metadata": {},
   "outputs": [],
   "source": [
    "from scipy.optimize import ridder\n",
    "import torch\n",
    "import matplotlib.pyplot as plt\n",
    "from MINE import MINE\n",
    "from tqdm import tqdm\n",
    "from torch.autograd import Variable\n",
    "import numpy as np\n",
    "\n",
    "import random\n",
    "import os\n",
    "def seed_torch(seed=1291):\n",
    "\trandom.seed(seed)\n",
    "\tos.environ['PYTHONHASHSEED'] = str(seed) # 为了禁止hash随机化，使得实验可复现\n",
    "\tnp.random.seed(seed)\n",
    "\ttorch.manual_seed(seed)\n",
    "\ttorch.cuda.manual_seed(seed)\n",
    "\ttorch.cuda.manual_seed_all(seed) # if you are using multi-GPU.\n",
    "\ttorch.backends.cudnn.benchmark = False\n",
    "\ttorch.backends.cudnn.deterministic = True\n",
    "seed_torch()\n",
    "\n",
    "model = MINE(10, 4)\n",
    "optimizer = torch.optim.Adam(model.parameters(), lr=0.01)"
   ]
  },
  {
   "cell_type": "code",
   "execution_count": 140,
   "metadata": {},
   "outputs": [
    {
     "data": {
      "text/plain": [
       "array([[1. , 0.5, 0.5, 0.5, 0.5, 0.5, 0.5, 0.5, 0.5, 0.5, 0.5, 0.5, 0.5,\n",
       "        0.5],\n",
       "       [0.5, 1. , 0.5, 0.5, 0.5, 0.5, 0.5, 0.5, 0.5, 0.5, 0.5, 0.5, 0.5,\n",
       "        0.5],\n",
       "       [0.5, 0.5, 1. , 0.5, 0.5, 0.5, 0.5, 0.5, 0.5, 0.5, 0.5, 0.5, 0.5,\n",
       "        0.5],\n",
       "       [0.5, 0.5, 0.5, 1. , 0.5, 0.5, 0.5, 0.5, 0.5, 0.5, 0.5, 0.5, 0.5,\n",
       "        0.5],\n",
       "       [0.5, 0.5, 0.5, 0.5, 1. , 0.5, 0.5, 0.5, 0.5, 0.5, 0.5, 0.5, 0.5,\n",
       "        0.5],\n",
       "       [0.5, 0.5, 0.5, 0.5, 0.5, 1. , 0.5, 0.5, 0.5, 0.5, 0.5, 0.5, 0.5,\n",
       "        0.5],\n",
       "       [0.5, 0.5, 0.5, 0.5, 0.5, 0.5, 1. , 0.5, 0.5, 0.5, 0.5, 0.5, 0.5,\n",
       "        0.5],\n",
       "       [0.5, 0.5, 0.5, 0.5, 0.5, 0.5, 0.5, 1. , 0.5, 0.5, 0.5, 0.5, 0.5,\n",
       "        0.5],\n",
       "       [0.5, 0.5, 0.5, 0.5, 0.5, 0.5, 0.5, 0.5, 1. , 0.5, 0.5, 0.5, 0.5,\n",
       "        0.5],\n",
       "       [0.5, 0.5, 0.5, 0.5, 0.5, 0.5, 0.5, 0.5, 0.5, 1. , 0.5, 0.5, 0.5,\n",
       "        0.5],\n",
       "       [0.5, 0.5, 0.5, 0.5, 0.5, 0.5, 0.5, 0.5, 0.5, 0.5, 1. , 0.5, 0.5,\n",
       "        0.5],\n",
       "       [0.5, 0.5, 0.5, 0.5, 0.5, 0.5, 0.5, 0.5, 0.5, 0.5, 0.5, 1. , 0.5,\n",
       "        0.5],\n",
       "       [0.5, 0.5, 0.5, 0.5, 0.5, 0.5, 0.5, 0.5, 0.5, 0.5, 0.5, 0.5, 1. ,\n",
       "        0.5],\n",
       "       [0.5, 0.5, 0.5, 0.5, 0.5, 0.5, 0.5, 0.5, 0.5, 0.5, 0.5, 0.5, 0.5,\n",
       "        1. ]])"
      ]
     },
     "execution_count": 140,
     "metadata": {},
     "output_type": "execute_result"
    }
   ],
   "source": [
    "#生成联合高斯x,y dim\n",
    "dim = 14\n",
    "sep = 10\n",
    "mutu = 0.5\n",
    "cov = [[1,.5,.5,.5,.5],\n",
    "       [.5,1,.5,.5,.5],\n",
    "       [.5,.5,1,.5,.5],\n",
    "       [.5,.5,.5,1,.5],\n",
    "       [.5,.5,.5,.5,1]]\n",
    "cov_p = [[1,.5,.5,0,0],\n",
    "         [.5,1,.5,0,0],\n",
    "         [.5,.5,1,0,0],\n",
    "         [0,0,0,1,.5],\n",
    "         [0,0,0,.5,1]]\n",
    "cov = np.identity(dim)*(1-mutu) + np.ones((dim,dim))*mutu\n",
    "cov_p = np.identity(dim)*(1-mutu) + np.ones((dim,dim))*mutu\n",
    "for i in range(dim):\n",
    "       for j in range(dim):\n",
    "              if not ((i<sep and j<sep) or (i>=sep and j>=sep)):\n",
    "                     cov_p[i,j] = 0\n",
    "cov"
   ]
  },
  {
   "cell_type": "code",
   "execution_count": 141,
   "metadata": {},
   "outputs": [],
   "source": [
    "\n",
    "gaussian_xy = np.random.multivariate_normal(np.zeros(dim),cov,50000)\n",
    "x = gaussian_xy[:,0:sep]\n",
    "y = gaussian_xy[:,sep:dim]\n",
    "y_shuffled = np.random.permutation(y)\n",
    "\n",
    "x = Variable(torch.from_numpy(x).type(torch.FloatTensor), requires_grad=False)#训练数据都是计算图里的叶节点，不需要梯度\n",
    "y = Variable(torch.from_numpy(y).type(torch.FloatTensor), requires_grad=False)\n",
    "y_shuffled = Variable(torch.from_numpy(y_shuffled).type(torch.FloatTensor), requires_grad=False)"
   ]
  },
  {
   "cell_type": "code",
   "execution_count": 142,
   "metadata": {},
   "outputs": [
    {
     "name": "stderr",
     "output_type": "stream",
     "text": [
      "100%|██████████| 1000/1000 [03:10<00:00,  5.25it/s]\n"
     ]
    }
   ],
   "source": [
    "skl = []\n",
    "num_epoch = 1000\n",
    "for epoch in tqdm(range(num_epoch)):\n",
    "    '''\n",
    "    index = np.random.choice(np.arange(x.shape[0]),size=10000,replace=False)\n",
    "    x = gaussian_xy[:,0:sep][index]\n",
    "    y = gaussian_xy[:,sep:dim][index]\n",
    "    y_shuffled = np.random.permutation(y)\n",
    "    '''\n",
    "    ################################\n",
    "    gaussian_xy = np.random.multivariate_normal(np.zeros(dim),cov,40000)\n",
    "    x = gaussian_xy[:,0:sep]\n",
    "    y = gaussian_xy[:,sep:dim]\n",
    "    y_shuffled = np.random.permutation(y)\n",
    "    ################################\n",
    "    x = Variable(torch.from_numpy(x).type(torch.FloatTensor), requires_grad=False)#训练数据都是计算图里的叶节点，不需要梯度\n",
    "    y = Variable(torch.from_numpy(y).type(torch.FloatTensor), requires_grad=False)\n",
    "    y_shuffled = Variable(torch.from_numpy(y_shuffled).type(torch.FloatTensor), requires_grad=False)\n",
    "    \n",
    "    pred_xy = model(x, y)\n",
    "    pred_x_y = model(x, y_shuffled)\n",
    "\n",
    "    #loss1 = - torch.mean(pred_xy)\n",
    "    #loss2 = torch.mean(torch.exp(pred_x_y-1))\n",
    "    #loss = (torch.mean(torch.exp(pred_x_y))*torch.mean(torch.exp(-pred_xy))-1)**2\n",
    "    loss = torch.mean(pred_xy) - torch.log(torch.mean(torch.exp(pred_x_y)))\n",
    "    res = torch.mean(pred_xy-pred_x_y)\n",
    "    '''\n",
    "    plot_loss.append(loss1.data.numpy())\n",
    "    print(loss1.item())\n",
    "    '''\n",
    "    #loss = loss1 + loss2\n",
    "    skl.append((res).data.numpy())\n",
    "    model.zero_grad()\n",
    "    (-loss).backward()\n",
    "    optimizer.step()\n"
   ]
  },
  {
   "cell_type": "code",
   "execution_count": 143,
   "metadata": {},
   "outputs": [
    {
     "data": {
      "text/plain": [
       "array(2.3601046, dtype=float32)"
      ]
     },
     "execution_count": 143,
     "metadata": {},
     "output_type": "execute_result"
    },
    {
     "data": {
      "image/png": "[encoded data removed]",
      "text/plain": [
       "<Figure size 432x288 with 1 Axes>"
      ]
     },
     "metadata": {
      "needs_background": "light"
     },
     "output_type": "display_data"
    }
   ],
   "source": [
    "plot_x = np.arange(len(skl))\n",
    "plot_y = np.array(skl)\n",
    "plt.plot(plot_x, plot_y)\n",
    "skl[len(skl)-1]"
   ]
  },
  {
   "cell_type": "code",
   "execution_count": 144,
   "metadata": {},
   "outputs": [
    {
     "data": {
      "text/plain": [
       "2.3541403"
      ]
     },
     "execution_count": 144,
     "metadata": {},
     "output_type": "execute_result"
    }
   ],
   "source": [
    "np.mean(skl[900:])"
   ]
  },
  {
   "cell_type": "code",
   "execution_count": 145,
   "metadata": {},
   "outputs": [
    {
     "data": {
      "text/plain": [
       "2.6666666666666656"
      ]
     },
     "execution_count": 145,
     "metadata": {},
     "output_type": "execute_result"
    }
   ],
   "source": [
    "cov = np.array(cov)\n",
    "cov_p = np.array(cov_p)\n",
    "res1 = 0.5*(np.log(np.linalg.det(cov_p))-np.log(np.linalg.det(cov))+(np.linalg.inv(cov_p).dot(cov)-np.identity(dim)).trace())\n",
    "res2 = 0.5*(np.log(np.linalg.det(cov))-np.log(np.linalg.det(cov_p))+(np.linalg.inv(cov).dot(cov_p)-np.identity(dim)).trace())\n",
    "res1+res2"
   ]
  },
  {
   "cell_type": "code",
   "execution_count": 146,
   "metadata": {},
   "outputs": [
    {
     "data": {
      "text/plain": [
       "MINE(\n",
       "  (fc1): Linear(in_features=10, out_features=200, bias=True)\n",
       "  (fc2): Linear(in_features=4, out_features=200, bias=True)\n",
       "  (fc3): Linear(in_features=200, out_features=10, bias=True)\n",
       "  (fc4): Linear(in_features=10, out_features=1, bias=True)\n",
       ")"
      ]
     },
     "execution_count": 146,
     "metadata": {},
     "output_type": "execute_result"
    }
   ],
   "source": [
    "model"
   ]
  }
 ],
 "metadata": {
  "kernelspec": {
   "display_name": "Python 3",
   "language": "python",
   "name": "python3"
  },
  "language_info": {
   "codemirror_mode": {
    "name": "ipython",
    "version": 3
   },
   "file_extension": ".py",
   "mimetype": "text/x-python",
   "name": "python",
   "nbconvert_exporter": "python",
   "pygments_lexer": "ipython3",
   "version": "3.7.8"
  },
  "orig_nbformat": 4
 },
 "nbformat": 4,
 "nbformat_minor": 2
}
