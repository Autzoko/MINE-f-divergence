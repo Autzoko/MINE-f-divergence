{
 "cells": [
  {
   "cell_type": "code",
   "execution_count": 4,
   "metadata": {},
   "outputs": [],
   "source": [
    "import torch\n",
    "import matplotlib.pyplot as plt\n",
    "from Gibbs import generate_sw_tuples_batch\n",
    "from MINE import MINE\n",
    "from tqdm import tqdm\n",
    "from torch.autograd import Variable\n",
    "import numpy as np\n",
    "\n",
    "import random\n",
    "import os\n",
    "def seed_torch(seed=1029):\n",
    "\trandom.seed(seed)\n",
    "\tos.environ['PYTHONHASHSEED'] = str(seed) # 为了禁止hash随机化，使得实验可复现\n",
    "\tnp.random.seed(seed)\n",
    "\ttorch.manual_seed(seed)\n",
    "\ttorch.cuda.manual_seed(seed)\n",
    "\ttorch.cuda.manual_seed_all(seed) # if you are using multi-GPU.\n",
    "\ttorch.backends.cudnn.benchmark = False\n",
    "\ttorch.backends.cudnn.deterministic = True\n",
    "seed_torch()\n",
    "\n",
    "p_current = 4 #p值\n",
    "sample_size = 50000 #用来估计的样本数\n",
    "iter_size = 10000\n",
    "model = MINE(6, p_current)\n",
    "optimizer = torch.optim.Adam(model.parameters(), lr=0.01)\n",
    "plot_loss = []\n",
    "\n",
    "import json\n",
    "with open('data/gibbs_data_p_is_{0}.json'.format(p_current), 'r') as datafile:\n",
    "    data = json.load(datafile)"
   ]
  },
  {
   "cell_type": "code",
   "execution_count": 5,
   "metadata": {},
   "outputs": [
    {
     "name": "stderr",
     "output_type": "stream",
     "text": [
      "100%|██████████| 5000/5000 [11:45<00:00,  7.09it/s]\n"
     ]
    },
    {
     "data": {
      "text/plain": [
       "array(0.04747391, dtype=float32)"
      ]
     },
     "execution_count": 5,
     "metadata": {},
     "output_type": "execute_result"
    },
    {
     "data": {
      "image/png": "[encoded data removed]",
      "text/plain": [
       "<Figure size 432x288 with 1 Axes>"
      ]
     },
     "metadata": {
      "needs_background": "light"
     },
     "output_type": "display_data"
    }
   ],
   "source": [
    "\n",
    "S = np.array([data[i]['S'][0] for i in range(len(data))][0:sample_size])\n",
    "w = np.array([data[i]['w'] for i in range(len(data))][0:sample_size])\n",
    "w_shuffle = np.random.permutation(w)\n",
    "S_sample = Variable(torch.from_numpy(S).type(torch.FloatTensor), requires_grad=False)\n",
    "w_sample = Variable(torch.from_numpy(w).type(torch.FloatTensor), requires_grad=False)\n",
    "w_shuffle_sample = Variable(torch.from_numpy(w_shuffle).type(torch.FloatTensor), requires_grad=False)\n",
    "\n",
    "kl = []\n",
    "num_epoch = 5000\n",
    "for epoch in tqdm(range(num_epoch)):\n",
    "    '''\n",
    "    S = np.array([data[i]['S'][0] for i in range(len(data))][(epoch*iter_size)%sample_size:((epoch+1)*iter_size-1)%sample_size+1])\n",
    "    w = np.array([data[i]['w'] for i in range(len(data))][(epoch*iter_size)%sample_size:((epoch+1)*iter_size-1)%sample_size+1])\n",
    "    w_shuffle = np.random.permutation(w)\n",
    "    S_sample = Variable(torch.from_numpy(S).type(torch.FloatTensor), requires_grad=True)\n",
    "    w_sample = Variable(torch.from_numpy(w).type(torch.FloatTensor), requires_grad=True)\n",
    "    w_shuffle_sample = Variable(torch.from_numpy(w_shuffle).type(torch.FloatTensor), requires_grad=True)\n",
    "    '''\n",
    "    index = np.random.choice(np.arange(S.shape[0]),size=iter_size,replace=False)\n",
    "    S_e = np.array([data[i]['S'][0] for i in range(len(data))][0:sample_size])[index]\n",
    "    w_e = np.array([data[i]['w'] for i in range(len(data))][0:sample_size])[index]\n",
    "    w_shuffle = np.random.permutation(w_e)\n",
    "    S_sample = Variable(torch.from_numpy(S_e).type(torch.FloatTensor), requires_grad=False)\n",
    "    w_sample = Variable(torch.from_numpy(w_e).type(torch.FloatTensor), requires_grad=False)\n",
    "    w_shuffle_sample = Variable(torch.from_numpy(w_shuffle).type(torch.FloatTensor), requires_grad=False)\n",
    "    \n",
    "    \n",
    "    pred_xy = model(S_sample, w_sample)\n",
    "    pred_x_y = model(S_sample, w_shuffle_sample)\n",
    "    \n",
    "    loss1 = - torch.mean(pred_xy)\n",
    "    loss2 = torch.log(torch.mean(torch.exp(pred_x_y)))\n",
    "    loss = loss1 + loss2\n",
    "    kl.append((-loss).data.numpy())\n",
    "    model.zero_grad()\n",
    "    loss.backward()\n",
    "    optimizer.step()\n",
    "\n",
    "x_plot = [x for x in range(num_epoch)]\n",
    "plt.plot(x_plot, kl)\n",
    "kl[len(kl)-1]"
   ]
  },
  {
   "cell_type": "code",
   "execution_count": 6,
   "metadata": {},
   "outputs": [
    {
     "data": {
      "text/plain": [
       "0.04502236"
      ]
     },
     "execution_count": 6,
     "metadata": {},
     "output_type": "execute_result"
    }
   ],
   "source": [
    "np.mean(kl[900:])"
   ]
  }
 ],
 "metadata": {
  "kernelspec": {
   "display_name": "Python 3",
   "language": "python",
   "name": "python3"
  },
  "language_info": {
   "codemirror_mode": {
    "name": "ipython",
    "version": 3
   },
   "file_extension": ".py",
   "mimetype": "text/x-python",
   "name": "python",
   "nbconvert_exporter": "python",
   "pygments_lexer": "ipython3",
   "version": "3.7.8"
  },
  "orig_nbformat": 4
 },
 "nbformat": 4,
 "nbformat_minor": 2
}
