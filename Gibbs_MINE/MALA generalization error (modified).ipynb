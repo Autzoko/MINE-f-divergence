{
 "cells": [
  {
   "cell_type": "markdown",
   "id": "ee56bf0d",
   "metadata": {},
   "source": [
    "## Estimate generalization error of Random feature model \n",
    "\n",
    "Population error: for each p-value(p=4,6,8,10,12,14,16,18,20), generate batch_size=100 test sets S', take 1000 w, calculate the average MSE.\\\n",
    "Empirical error: error on training set, that is generated (S,w) data for each p-value.\\\n",
    "Generalization error: population error - empirical error."
   ]
  },
  {
   "cell_type": "markdown",
   "id": "4c39daf2",
   "metadata": {},
   "source": [
    "### data"
   ]
  },
  {
   "cell_type": "code",
   "execution_count": 31,
   "id": "14e6202f",
   "metadata": {
    "scrolled": true
   },
   "outputs": [
    {
     "data": {
      "text/plain": [
       "\"\\nos.chdir('C://Users//sunji//Documents//WeChat Files//wxid_rjlp06765c5a21//FileStorage//File//2023-10')\\nos.listdir('data')\\n\""
      ]
     },
     "execution_count": 31,
     "metadata": {},
     "output_type": "execute_result"
    }
   ],
   "source": [
    "from tqdm import tqdm\n",
    "import numpy as np\n",
    "import matplotlib.pyplot as plt\n",
    "import json\n",
    "from Sample_Gibbs_from_Gaussian import sample_w\n",
    "from Sample_Gibbs_from_Gaussian import sample_w_ori\n",
    "from Sample_Gibbs_from_Gaussian import minimized_w\n",
    "import os\n",
    "beta = 10\n",
    "sigma_q = 0.5\n",
    "'''\n",
    "os.chdir('C://Users//sunji//Documents//WeChat Files//wxid_rjlp06765c5a21//FileStorage//File//2023-10')\n",
    "os.listdir('data')\n",
    "'''"
   ]
  },
  {
   "cell_type": "code",
   "execution_count": 32,
   "id": "acddfbf8",
   "metadata": {},
   "outputs": [
    {
     "data": {
      "text/plain": [
       "\"\\nfor p_current in range(4,22,2):\\n    with open('data/gibbs_data_p_is_{}.json'.format(p_current), 'r') as datafile:\\n        data = json.load(datafile)\\n    print(len(data))\\n    \""
      ]
     },
     "execution_count": 32,
     "metadata": {},
     "output_type": "execute_result"
    }
   ],
   "source": [
    "'''\n",
    "for p_current in range(4,22,2):\n",
    "    with open('data/gibbs_data_p_is_{}.json'.format(p_current), 'r') as datafile:\n",
    "        data = json.load(datafile)\n",
    "    print(len(data))\n",
    "    '''"
   ]
  },
  {
   "cell_type": "markdown",
   "id": "75663ea5",
   "metadata": {},
   "source": [
    "### population error"
   ]
  },
  {
   "cell_type": "code",
   "execution_count": 33,
   "id": "4189418d",
   "metadata": {},
   "outputs": [],
   "source": [
    "original_random_state = np.random.get_state()\n",
    "np.random.seed(20230929) \n",
    "#gaussian distribution sampler: normal(mean=0.0, variance_sqrt=1.0, size=None) s = np.random.normal(0,1)\n",
    "#teacher model\n",
    "#dimension of x: d（固定不变）10->5\n",
    "d = 5\n",
    "#number of training samples（固定不变）100->20\n",
    "N = 20\n",
    "#dimension of hypothesis space\n",
    "p0 = 5 #dimension of teacher model（固定不变）\n",
    "#p = p #dimension of student model（可变）#p=200\n",
    "p_max = 2000 #upper bound of dimension of student model（固定不变）\n",
    "#point-wise activate function f:tanh\n",
    "#variance of random noise added to y\n",
    "sigma = 0.1\n",
    "\n",
    "#random feature matrix\n",
    "F0 = np.random.normal(0,1,(d,p0)) #生成teacher model的random feature matrix F0（固定不变）\n",
    "F_ = np.random.normal(0,1,(d,p_max)) #生成student model的random feature matrix F(d*p)。先按照p_max的大小生成，再根据当前维度p的不同截取前p列形成每个p对应的F。\n",
    "    #注意，这个F对于一般的神经网络是可训练的，但是对于RFM为了简化直接设定为固定值。（固定不变）\n",
    "#teacher parameter w(p) with lambda = ? until each dim of Y~1e0\n",
    "lambda_ = 0.0001\n",
    "#w_0 = np.random.normal(0,sigma/np.sqrt(lambda_*N),p)\n",
    "w_0 = np.random.normal(0,1,p0) #生成teacher model的权重向量（固定不变）\n",
    "#w_0 = np.concatenate((w_0,np.zeros(5)),axis = 0)\n",
    "\n",
    "np.random.set_state(original_random_state)\n",
    "def population_MSE(p,w_num,batch_size=100):\n",
    "    \"\"\" Estimate population error of Random feature model.\n",
    "    \n",
    "    :param w_list: list of generated w for estimation \n",
    "    :param p: dimension of student model（可变）\n",
    "    :param batch_size: number of test dataset S'\n",
    "    :return: float, MSE for population error\n",
    "    \"\"\"\n",
    "\n",
    "    \"\"\"\n",
    "    参数设置：与训练所用teacher model保持一致（来自09-29: Gibbs.py）\n",
    "    \"\"\"\n",
    "    F = F_[:,:p]\n",
    "    np.random.seed(20231004+p) #每个p用不同的随机种子,对应不同固定随机的测试集\n",
    "    \n",
    "    MSE_list=[]\n",
    "    for i_ in range(w_num):\n",
    "        X = np.random.normal(0,1,(N,d))\n",
    "        X_rf0 = np.tanh(X.dot(F0)/np.sqrt(d))\n",
    "        Y_pure = X_rf0.dot(w_0)\n",
    "        Y = Y_pure + np.random.normal(0,sigma,N) #由X通过teacher model（也就是F0和w_0）生成的Y\n",
    "        #S_i = np.concatenate((X,Y.reshape(N,-1)),axis=1).reshape(-1)  #S=(X,Y)[0]\n",
    "        B = np.tanh(X.dot(F)/np.sqrt(d))\n",
    "        lambda_ = 1/(2*sigma_q**2*beta)\n",
    "        #lambda_ = 0.1\n",
    "        sigma_sq = N/(2*beta)\n",
    "        w = sample_w_ori(p,N,lambda_,sigma_sq,B,Y)[0]  \n",
    "        #w = minimized_w(p,N,lambda_,B,Y)\n",
    "        '''\n",
    "        采样测试集S'：每次测试集重新生成，此处采样一个S=(X,Y)\n",
    "                采样X(N*d)，X经过F0和w_0作用后再加上高斯扰动（这个扰动是必要的，不然构成确定映射不影响互信息）形成Y，\n",
    "                Y与X一起构成了从dataset里采样的N个样本，对应了论文中的=>S （可变）\n",
    "        '''\n",
    "        #samples X(N*d) \n",
    "        X = np.random.normal(0,1,(batch_size,d)) #生成N个d维随机向量，作为N条样本组成的训练集。\n",
    "        #X after the random feature matrix\n",
    "        X_rf0 = np.tanh(X.dot(F0)/np.sqrt(d))\n",
    "        Y_pure = X_rf0.dot(w_0)\n",
    "        Y = Y_pure + np.random.normal(0,sigma,batch_size) #由X通过teacher model（也就是F0和w_0）生成的Y\n",
    "\n",
    "        '''\n",
    "        w预测：X经过F和w_0作用形成pred_Y，泛化误差mse:E[（Y-pred_Y）^2]\n",
    "        '''\n",
    "        X_rf = np.tanh(X.dot(F)/np.sqrt(d))\n",
    "        diff = Y-X_rf.dot(w)\n",
    "        MSE_list.append(diff.dot(diff)/batch_size)  #除一个训练集的样本数N\n",
    "        \n",
    "    return sum(MSE_list)/len(MSE_list)"
   ]
  },
  {
   "cell_type": "code",
   "execution_count": 34,
   "id": "13a1d05f",
   "metadata": {},
   "outputs": [
    {
     "data": {
      "text/plain": [
       "0.3013560627699644"
      ]
     },
     "execution_count": 34,
     "metadata": {},
     "output_type": "execute_result"
    }
   ],
   "source": [
    "w_num = 10000\n",
    "test_size = 1000\n",
    "\n",
    "population_error=[]\n",
    "p_error = population_MSE(4,w_num,test_size)\n",
    "p_error"
   ]
  },
  {
   "cell_type": "code",
   "execution_count": 35,
   "id": "73d61c2f",
   "metadata": {},
   "outputs": [
    {
     "name": "stdout",
     "output_type": "stream",
     "text": [
      "p=4: population error=0.3013560627699644\n",
      "p=6: population error=0.29797030514577366\n",
      "p=8: population error=0.2928692525884479\n",
      "p=10: population error=0.3368662218302218\n",
      "p=12: population error=0.3452094118548798\n",
      "p=14: population error=0.35691317523023786\n",
      "p=16: population error=0.3708632910877811\n",
      "p=18: population error=0.39746079017847885\n",
      "p=20: population error=0.41727059898090957\n",
      "p=22: population error=0.4246649924050922\n",
      "p=24: population error=0.43404027084857505\n",
      "p=26: population error=0.4568826754960427\n",
      "p=28: population error=0.4670741569741074\n",
      "p=30: population error=0.4673518941983271\n"
     ]
    },
    {
     "data": {
      "text/plain": [
       "Text(0.5, 1.0, 'Population error (w_num = 1000,test_size = 1000)')"
      ]
     },
     "execution_count": 35,
     "metadata": {},
     "output_type": "execute_result"
    },
    {
     "data": {
      "image/png": "[encoded data removed]",
      "text/plain": [
       "<Figure size 432x288 with 1 Axes>"
      ]
     },
     "metadata": {
      "needs_background": "light"
     },
     "output_type": "display_data"
    }
   ],
   "source": [
    "#param\n",
    "w_num = 10000\n",
    "test_size = 1000\n",
    "\n",
    "population_error=[]\n",
    "\n",
    "for p_current in range(4,32,2):\n",
    "\n",
    "    p_error = population_MSE(p_current,w_num,test_size)\n",
    "    population_error.append(p_error)\n",
    "    print('p={}: population error={}'.format(p_current,p_error))\n",
    "\n",
    "\n",
    "#plot\n",
    "plt.plot(range(4,32,2), population_error)\n",
    "plt.xlabel('p')\n",
    "plt.ylabel('mse')\n",
    "plt.title('Population error (w_num = 1000,test_size = 1000)')"
   ]
  },
  {
   "cell_type": "markdown",
   "id": "d3b80bc4",
   "metadata": {},
   "source": [
    "### empirical error"
   ]
  },
  {
   "cell_type": "code",
   "execution_count": 36,
   "id": "44cd531f",
   "metadata": {},
   "outputs": [],
   "source": [
    "def empirical_MSE(p,w_num):\n",
    "    \"\"\" Culculate empirical error.\n",
    "    \n",
    "    :param data: list of generated (S,w), of which each element is a dictionary like {'S':xxx,'w':xxx}\n",
    "    :param p: dimension of student model（variable）\n",
    "    :return: float, MSE for empirical error.\n",
    "    \"\"\"\n",
    "\n",
    "    \"\"\"\n",
    "    参数设置：与训练所用teacher model保持一致（来自09-29: Gibbs.py）\n",
    "    \"\"\"\n",
    "    F = F_[:,:p]\n",
    "    np.random.seed(20231004+p) #每个p用不同的随机种子,对应不同固定随机的测试集\n",
    "    \n",
    "    MSE_list=[]\n",
    "    for i_ in range(w_num):\n",
    "        X = np.random.normal(0,1,(N,d))\n",
    "        X_rf0 = np.tanh(X.dot(F0)/np.sqrt(d))\n",
    "        Y_pure = X_rf0.dot(w_0)\n",
    "        Y = Y_pure + np.random.normal(0,sigma,N) #由X通过teacher model（也就是F0和w_0）生成的Y\n",
    "        #S_i = np.concatenate((X,Y.reshape(N,-1)),axis=1).reshape(-1)  #S=(X,Y)[0]\n",
    "        B = np.tanh(X.dot(F)/np.sqrt(d))\n",
    "        lambda_ = 1/(2*sigma_q**2*beta)\n",
    "        #lambda_ = 0.1\n",
    "        sigma_sq = N/(2*beta)\n",
    "        w = sample_w_ori(p,N,lambda_,sigma_sq,B,Y)[0]    \n",
    "        #w = minimized_w(p,N,lambda_,B,Y)\n",
    "        '''\n",
    "        采样测试集S'：每次测试集重新生成，此处采样一个S=(X,Y)\n",
    "                采样X(N*d)，X经过F0和w_0作用后再加上高斯扰动（这个扰动是必要的，不然构成确定映射不影响互信息）形成Y，\n",
    "                Y与X一起构成了从dataset里采样的N个样本，对应了论文中的=>S （可变）\n",
    "        '''\n",
    "\n",
    "        '''\n",
    "        w预测：X经过F和w_0作用形成pred_Y，泛化误差mse:E[（Y-pred_Y）^2]\n",
    "        '''\n",
    "        X_rf = np.tanh(X.dot(F)/np.sqrt(d))\n",
    "        diff = Y-X_rf.dot(w)\n",
    "        MSE_list.append(diff.dot(diff)/N)  #除一个训练集的样本数N\n",
    "        \n",
    "    return sum(MSE_list)/len(MSE_list)"
   ]
  },
  {
   "cell_type": "code",
   "execution_count": 37,
   "id": "2c992ed1",
   "metadata": {
    "scrolled": false
   },
   "outputs": [
    {
     "name": "stdout",
     "output_type": "stream",
     "text": [
      "p=4: empirical error=0.2521141050992815\n",
      "p=6: empirical error=0.23906652944116089\n",
      "p=8: empirical error=0.2322105035247926\n",
      "p=10: empirical error=0.25572159895025204\n",
      "p=12: empirical error=0.25949877479583366\n",
      "p=14: empirical error=0.26628167780128714\n",
      "p=16: empirical error=0.27237951660378723\n",
      "p=18: empirical error=0.28352289798932384\n",
      "p=20: empirical error=0.2908029325788194\n",
      "p=22: empirical error=0.29706015774020905\n",
      "p=24: empirical error=0.30030771741608636\n",
      "p=26: empirical error=0.30829408759408156\n",
      "p=28: empirical error=0.3104284096441244\n",
      "p=30: empirical error=0.3124714244633856\n"
     ]
    },
    {
     "data": {
      "text/plain": [
       "Text(0.5, 1.0, 'Empirical error')"
      ]
     },
     "execution_count": 37,
     "metadata": {},
     "output_type": "execute_result"
    },
    {
     "data": {
      "image/png": "[encoded data removed]",
      "text/plain": [
       "<Figure size 432x288 with 1 Axes>"
      ]
     },
     "metadata": {
      "needs_background": "light"
     },
     "output_type": "display_data"
    }
   ],
   "source": [
    "empirical_error=[]\n",
    "for p_current in range(4,32,2):\n",
    "    e_error = empirical_MSE(p_current,50000)\n",
    "    empirical_error.append(e_error)\n",
    "    print('p={}: empirical error={}'.format(p_current,e_error))\n",
    "\n",
    "#plot\n",
    "plt.plot(range(4,32,2), empirical_error)\n",
    "plt.xlabel('p')\n",
    "plt.ylabel('mse')\n",
    "plt.title('Empirical error')"
   ]
  },
  {
   "cell_type": "markdown",
   "id": "c30bc17c",
   "metadata": {},
   "source": [
    "### generalization error"
   ]
  },
  {
   "cell_type": "code",
   "execution_count": 38,
   "id": "59e7b957",
   "metadata": {},
   "outputs": [
    {
     "data": {
      "text/plain": [
       "array([0.30135606, 0.29797031, 0.29286925, 0.33686622, 0.34520941,\n",
       "       0.35691318, 0.37086329, 0.39746079, 0.4172706 , 0.42466499,\n",
       "       0.43404027, 0.45688268, 0.46707416, 0.46735189])"
      ]
     },
     "execution_count": 38,
     "metadata": {},
     "output_type": "execute_result"
    }
   ],
   "source": [
    "np.array(population_error)"
   ]
  },
  {
   "cell_type": "code",
   "execution_count": 39,
   "id": "6db58a4c",
   "metadata": {},
   "outputs": [
    {
     "data": {
      "text/plain": [
       "array([0.04924196, 0.05890378, 0.06065875, 0.08114462, 0.08571064,\n",
       "       0.0906315 , 0.09848377, 0.11393789, 0.12646767, 0.12760483,\n",
       "       0.13373255, 0.14858859, 0.15664575, 0.15488047])"
      ]
     },
     "execution_count": 39,
     "metadata": {},
     "output_type": "execute_result"
    }
   ],
   "source": [
    "generalization_error=np.array(population_error) - np.array(empirical_error)\n",
    "generalization_error"
   ]
  },
  {
   "cell_type": "code",
   "execution_count": 40,
   "id": "e2ae8c30",
   "metadata": {
    "scrolled": false
   },
   "outputs": [
    {
     "data": {
      "text/plain": [
       "[0.2521141050992815,\n",
       " 0.23906652944116089,\n",
       " 0.2322105035247926,\n",
       " 0.25572159895025204,\n",
       " 0.25949877479583366,\n",
       " 0.26628167780128714,\n",
       " 0.27237951660378723,\n",
       " 0.28352289798932384,\n",
       " 0.2908029325788194,\n",
       " 0.29706015774020905,\n",
       " 0.30030771741608636,\n",
       " 0.30829408759408156,\n",
       " 0.3104284096441244,\n",
       " 0.3124714244633856]"
      ]
     },
     "execution_count": 40,
     "metadata": {},
     "output_type": "execute_result"
    }
   ],
   "source": [
    "empirical_error"
   ]
  },
  {
   "cell_type": "code",
   "execution_count": 41,
   "id": "cab2a882",
   "metadata": {},
   "outputs": [
    {
     "data": {
      "text/plain": [
       "[0.3013560627699644,\n",
       " 0.29797030514577366,\n",
       " 0.2928692525884479,\n",
       " 0.3368662218302218,\n",
       " 0.3452094118548798,\n",
       " 0.35691317523023786,\n",
       " 0.3708632910877811,\n",
       " 0.39746079017847885,\n",
       " 0.41727059898090957,\n",
       " 0.4246649924050922,\n",
       " 0.43404027084857505,\n",
       " 0.4568826754960427,\n",
       " 0.4670741569741074,\n",
       " 0.4673518941983271]"
      ]
     },
     "execution_count": 41,
     "metadata": {},
     "output_type": "execute_result"
    }
   ],
   "source": [
    "population_error"
   ]
  },
  {
   "cell_type": "code",
   "execution_count": 42,
   "id": "67ef7a57",
   "metadata": {},
   "outputs": [
    {
     "data": {
      "text/html": [
       "<div>\n",
       "<style scoped>\n",
       "    .dataframe tbody tr th:only-of-type {\n",
       "        vertical-align: middle;\n",
       "    }\n",
       "\n",
       "    .dataframe tbody tr th {\n",
       "        vertical-align: top;\n",
       "    }\n",
       "\n",
       "    .dataframe thead th {\n",
       "        text-align: right;\n",
       "    }\n",
       "</style>\n",
       "<table border=\"1\" class=\"dataframe\">\n",
       "  <thead>\n",
       "    <tr style=\"text-align: right;\">\n",
       "      <th></th>\n",
       "      <th>Risk Type</th>\n",
       "      <th>4</th>\n",
       "      <th>6</th>\n",
       "      <th>8</th>\n",
       "      <th>10</th>\n",
       "      <th>12</th>\n",
       "      <th>14</th>\n",
       "      <th>16</th>\n",
       "      <th>18</th>\n",
       "      <th>20</th>\n",
       "      <th>22</th>\n",
       "      <th>24</th>\n",
       "      <th>26</th>\n",
       "      <th>28</th>\n",
       "      <th>30</th>\n",
       "    </tr>\n",
       "  </thead>\n",
       "  <tbody>\n",
       "    <tr>\n",
       "      <th>0</th>\n",
       "      <td>population</td>\n",
       "      <td>0.301356</td>\n",
       "      <td>0.297970</td>\n",
       "      <td>0.292869</td>\n",
       "      <td>0.336866</td>\n",
       "      <td>0.345209</td>\n",
       "      <td>0.356913</td>\n",
       "      <td>0.370863</td>\n",
       "      <td>0.397461</td>\n",
       "      <td>0.417271</td>\n",
       "      <td>0.424665</td>\n",
       "      <td>0.434040</td>\n",
       "      <td>0.456883</td>\n",
       "      <td>0.467074</td>\n",
       "      <td>0.467352</td>\n",
       "    </tr>\n",
       "    <tr>\n",
       "      <th>1</th>\n",
       "      <td>empirical</td>\n",
       "      <td>0.252114</td>\n",
       "      <td>0.239067</td>\n",
       "      <td>0.232211</td>\n",
       "      <td>0.255722</td>\n",
       "      <td>0.259499</td>\n",
       "      <td>0.266282</td>\n",
       "      <td>0.272380</td>\n",
       "      <td>0.283523</td>\n",
       "      <td>0.290803</td>\n",
       "      <td>0.297060</td>\n",
       "      <td>0.300308</td>\n",
       "      <td>0.308294</td>\n",
       "      <td>0.310428</td>\n",
       "      <td>0.312471</td>\n",
       "    </tr>\n",
       "    <tr>\n",
       "      <th>2</th>\n",
       "      <td>generalization</td>\n",
       "      <td>0.049242</td>\n",
       "      <td>0.058904</td>\n",
       "      <td>0.060659</td>\n",
       "      <td>0.081145</td>\n",
       "      <td>0.085711</td>\n",
       "      <td>0.090631</td>\n",
       "      <td>0.098484</td>\n",
       "      <td>0.113938</td>\n",
       "      <td>0.126468</td>\n",
       "      <td>0.127605</td>\n",
       "      <td>0.133733</td>\n",
       "      <td>0.148589</td>\n",
       "      <td>0.156646</td>\n",
       "      <td>0.154880</td>\n",
       "    </tr>\n",
       "  </tbody>\n",
       "</table>\n",
       "</div>"
      ],
      "text/plain": [
       "        Risk Type         4         6         8        10        12        14  \\\n",
       "0      population  0.301356  0.297970  0.292869  0.336866  0.345209  0.356913   \n",
       "1       empirical  0.252114  0.239067  0.232211  0.255722  0.259499  0.266282   \n",
       "2  generalization  0.049242  0.058904  0.060659  0.081145  0.085711  0.090631   \n",
       "\n",
       "         16        18        20        22        24        26        28  \\\n",
       "0  0.370863  0.397461  0.417271  0.424665  0.434040  0.456883  0.467074   \n",
       "1  0.272380  0.283523  0.290803  0.297060  0.300308  0.308294  0.310428   \n",
       "2  0.098484  0.113938  0.126468  0.127605  0.133733  0.148589  0.156646   \n",
       "\n",
       "         30  \n",
       "0  0.467352  \n",
       "1  0.312471  \n",
       "2  0.154880  "
      ]
     },
     "execution_count": 42,
     "metadata": {},
     "output_type": "execute_result"
    }
   ],
   "source": [
    "import pandas as pd\n",
    "\n",
    "df = pd.DataFrame([population_error,empirical_error,generalization_error],columns=range(4,32,2))\n",
    "df.insert(0, 'Risk Type', ['population','empirical','generalization'])\n",
    "df.to_csv('risk value.csv', index=False)\n",
    "df"
   ]
  },
  {
   "cell_type": "markdown",
   "id": "37a5ed91",
   "metadata": {},
   "source": [
    "### visualization"
   ]
  },
  {
   "cell_type": "code",
   "execution_count": 43,
   "id": "fc93db38",
   "metadata": {},
   "outputs": [
    {
     "data": {
      "image/png": "[encoded data removed]",
      "text/plain": [
       "<Figure size 432x288 with 1 Axes>"
      ]
     },
     "metadata": {
      "needs_background": "light"
     },
     "output_type": "display_data"
    }
   ],
   "source": [
    "# plt.figure(figsize = (8,4))\n",
    "x=range(4,32,2)\n",
    "plt.plot(x, generalization_error,label='generalization')\n",
    "plt.plot(x, population_error,label='population')\n",
    "plt.plot(x, empirical_error,label='empirical')\n",
    "\n",
    "plt.legend()\n",
    "plt.xlabel('p')\n",
    "plt.ylabel('MSE')\n",
    "plt.title('Risk curve')\n",
    "plt.show()"
   ]
  },
  {
   "cell_type": "code",
   "execution_count": 44,
   "id": "6179ecbb",
   "metadata": {},
   "outputs": [
    {
     "data": {
      "image/png": "[encoded data removed]",
      "text/plain": [
       "<Figure size 432x288 with 1 Axes>"
      ]
     },
     "metadata": {
      "needs_background": "light"
     },
     "output_type": "display_data"
    }
   ],
   "source": [
    "# plt.figure(figsize = (8,4))\n",
    "x=range(4,32,2)\n",
    "plt.plot(x, generalization_error,label='generalization',color='r',marker='s')\n",
    "plt.plot(x, population_error,label='population',marker='o')\n",
    "plt.plot(x, empirical_error,label='empirical',color='g',marker='x')\n",
    "\n",
    "plt.legend()\n",
    "plt.xlabel('p')\n",
    "plt.ylabel('MSE')\n",
    "plt.title('Risk curve')\n",
    "plt.show()"
   ]
  },
  {
   "cell_type": "markdown",
   "id": "47e73664",
   "metadata": {},
   "source": [
    "### Tuning hyperparameters"
   ]
  },
  {
   "cell_type": "code",
   "execution_count": 45,
   "id": "592b78d3",
   "metadata": {},
   "outputs": [
    {
     "data": {
      "text/plain": [
       "array([0.04924196, 0.05890378, 0.06065875, 0.08114462, 0.08571064,\n",
       "       0.0906315 , 0.09848377, 0.11393789, 0.12646767, 0.12760483,\n",
       "       0.13373255, 0.14858859, 0.15664575, 0.15488047])"
      ]
     },
     "execution_count": 45,
     "metadata": {},
     "output_type": "execute_result"
    }
   ],
   "source": [
    "generalization_error"
   ]
  },
  {
   "cell_type": "markdown",
   "id": "eb3fb7cb",
   "metadata": {},
   "source": [
    "beta=10000,sigma_q=1\n",
    "array([0.05290429, 0.03306365, 0.05025853, 0.06982479, 0.1009426 ,\n",
    "       0.12618213, 0.17196009, 0.21863089, 0.26071406, 0.26533174,\n",
    "       0.26107472, 0.27038095, 0.27900728, 0.28103048])\n"
   ]
  }
 ],
 "metadata": {
  "kernelspec": {
   "display_name": "Python 3 (ipykernel)",
   "language": "python",
   "name": "python3"
  },
  "language_info": {
   "codemirror_mode": {
    "name": "ipython",
    "version": 3
   },
   "file_extension": ".py",
   "mimetype": "text/x-python",
   "name": "python",
   "nbconvert_exporter": "python",
   "pygments_lexer": "ipython3",
   "version": "3.7.8"
  }
 },
 "nbformat": 4,
 "nbformat_minor": 5
}
