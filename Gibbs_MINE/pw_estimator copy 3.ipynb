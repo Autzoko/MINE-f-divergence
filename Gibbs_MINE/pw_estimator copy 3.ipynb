{
 "cells": [
  {
   "cell_type": "code",
   "execution_count": 1,
   "metadata": {},
   "outputs": [],
   "source": [
    "import torch\n",
    "import matplotlib.pyplot as plt\n",
    "from Gibbs import generate_sw_tuples_batch\n",
    "from MINE import MINE_1\n",
    "from tqdm import tqdm\n",
    "from torch.autograd import Variable\n",
    "import numpy as np\n",
    "from Sample_Gibbs_from_Gaussian import sample_w\n",
    "from Sample_Gibbs_from_Gaussian import log_P\n",
    "import random\n",
    "import os\n",
    "def seed_torch(seed=1029):\n",
    "\trandom.seed(seed)\n",
    "\tos.environ['PYTHONHASHSEED'] = str(seed) # 为了禁止hash随机化，使得实验可复现\n",
    "\tnp.random.seed(seed)\n",
    "\ttorch.manual_seed(seed)\n",
    "\ttorch.cuda.manual_seed(seed)\n",
    "\ttorch.cuda.manual_seed_all(seed) # if you are using multi-GPU.\n",
    "\ttorch.backends.cudnn.benchmark = False\n",
    "\ttorch.backends.cudnn.deterministic = True\n",
    "seed_torch()\n",
    "\n",
    "p_current = 30 #p值\n",
    "sample_size = 50000 #用来估计的样本数\n",
    "iter_size = 27000\n",
    "beta = 10\n",
    "sigma_q = 0.5\n",
    "model = MINE_1(p_current)\n",
    "optimizer = torch.optim.Adam(model.parameters(), lr=0.01)\n",
    "plot_loss = []\n",
    "\n"
   ]
  },
  {
   "cell_type": "code",
   "execution_count": 2,
   "metadata": {},
   "outputs": [
    {
     "data": {
      "text/plain": [
       "'\\nif torch.cuda.is_available():\\n  torch.set_default_tensor_type(torch.cuda.FloatTensor)\\n  print(\"using cuda:\", torch.cuda.get_device_name(0))\\n  pass\\n\\ndevice = torch.device(\"cuda\" if torch.cuda.is_available\\n            else \"cpu\")\\n\\nprint(device)\\n\\nmodel = torch.load(\\'./model_kl_4.pth\\')\\noptimizer = torch.optim.Adam(model.parameters(), lr=0.02)\\n'"
      ]
     },
     "execution_count": 2,
     "metadata": {},
     "output_type": "execute_result"
    }
   ],
   "source": [
    "'''\n",
    "if torch.cuda.is_available():\n",
    "  torch.set_default_tensor_type(torch.cuda.FloatTensor)\n",
    "  print(\"using cuda:\", torch.cuda.get_device_name(0))\n",
    "  pass\n",
    "\n",
    "device = torch.device(\"cuda\" if torch.cuda.is_available\n",
    "            else \"cpu\")\n",
    "\n",
    "print(device)\n",
    "\n",
    "model = torch.load('./model_kl_4.pth')\n",
    "optimizer = torch.optim.Adam(model.parameters(), lr=0.02)\n",
    "'''"
   ]
  },
  {
   "cell_type": "code",
   "execution_count": 3,
   "metadata": {},
   "outputs": [
    {
     "name": "stderr",
     "output_type": "stream",
     "text": [
      "100%|██████████| 500/500 [7:57:06<00:00, 57.25s/it]  \n"
     ]
    },
    {
     "data": {
      "text/plain": [
       "0.5959956645965576"
      ]
     },
     "execution_count": 3,
     "metadata": {},
     "output_type": "execute_result"
    },
    {
     "data": {
      "image/png": "[encoded data removed]",
      "text/plain": [
       "<Figure size 432x288 with 1 Axes>"
      ]
     },
     "metadata": {
      "needs_background": "light"
     },
     "output_type": "display_data"
    }
   ],
   "source": [
    "################################################################\n",
    "original_random_state = np.random.get_state()\n",
    "np.random.seed(20230929)\n",
    "#gaussian distribution sampler: normal(mean=0.0, variance_sqrt=1.0, size=None) s = np.random.normal(0,1)\n",
    "#teacher model\n",
    "#dimension of x: d（固定不变）10->5\n",
    "d = 5\n",
    "#number of training samples（固定不变）100->20\n",
    "N = 20\n",
    "#dimension of hypothesis space\n",
    "p0 = 5 #dimension of teacher model（固定不变）\n",
    "p = p_current #dimension of student model（可变）#p=200\n",
    "p_max = 2000 #upper bound of dimension of student model（固定不变）\n",
    "#point-wise activate function f:tanh\n",
    "#variance of random noise added to y\n",
    "sigma = 0.1\n",
    "\n",
    "#random feature matrix\n",
    "F0 = np.random.normal(0,1,(d,p0)) #生成teacher model的random feature matrix F0（固定不变）\n",
    "F = np.random.normal(0,1,(d,p_max))[:,:p] #生成student model的random feature matrix F(d*p)。先按照p_max的大小生成，再根据当前维度p的不同截取前p列形成每个p对应的F。\n",
    "    #注意，这个F对于一般的神经网络是可训练的，但是对于RFM为了简化直接设定为固定值。（固定不变）\n",
    "#teacher parameter w(p) with lambda = ? until each dim of Y~1e0\n",
    "lambda_ = 0.0001\n",
    "#w_0 = np.random.normal(0,sigma/np.sqrt(lambda_*N),p)\n",
    "w_0 = np.random.normal(0,1,p0) #生成teacher model的权重向量（固定不变）\n",
    "#w_0 = np.concatenate((w_0,np.zeros(5)),axis = 0)\n",
    "\n",
    "np.random.set_state(original_random_state)\n",
    "################################################################\n",
    "kl = []\n",
    "num_epoch = 500\n",
    "for epoch in tqdm(range(num_epoch)):\n",
    "    w = []\n",
    "    log_P_wCs = []\n",
    "    log_P_wCs_shuffled = []\n",
    "    B = []\n",
    "    Y = []\n",
    "    for i in range(iter_size):\n",
    "        X = np.random.normal(0,1,(N,d))\n",
    "        X_rf0 = np.tanh(X.dot(F0)/np.sqrt(d))\n",
    "        Y_pure = X_rf0.dot(w_0)\n",
    "        Y_i = Y_pure + np.random.normal(0,sigma,N) #由X通过teacher model（也就是F0和w_0）生成的Y\n",
    "        #S_i = np.concatenate((X,Y_i.reshape(N,-1)),axis=1).reshape(-1)  #S=(X,Y)[0]\n",
    "        B_i = np.tanh(X.dot(F)/np.sqrt(d))\n",
    "        w_i = sample_w(p,N,beta,sigma_q,B_i,Y_i,1)[0]##===>\n",
    "        log_P_wCs.append(log_P(w_i,B_i,Y_i,N,beta,sigma_q))##===>\n",
    "        w.append(w_i)\n",
    "        B.append(B_i)\n",
    "        Y.append(Y_i)\n",
    "    w = np.array(w)\n",
    "    log_P_wCs = np.array(log_P_wCs)\n",
    "    j = 0\n",
    "    for i in np.random.permutation(range(iter_size)):\n",
    "        log_P_wCs_shuffled.append(log_P(w[j],B[i],Y[i],N,beta,sigma_q))##===>\n",
    "        j+=1\n",
    "    log_P_wCs_shuffled = np.array(log_P_wCs_shuffled)\n",
    "    w_sample = Variable(torch.from_numpy(w).type(torch.FloatTensor), requires_grad=False)\n",
    "    log_P_wCs = Variable(torch.from_numpy(log_P_wCs).reshape(-1,1).type(torch.FloatTensor), requires_grad=False)\n",
    "    log_P_wCs_shuffled = Variable(torch.from_numpy(log_P_wCs_shuffled).reshape(-1,1).type(torch.FloatTensor), requires_grad=False)\n",
    "    T_w = model(w_sample)\n",
    "    \n",
    "    loss1 = - torch.mean(-log_P_wCs_shuffled+T_w)\n",
    "    loss2 = torch.log(torch.mean(torch.exp(-log_P_wCs+T_w)))\n",
    "    loss = (loss1 + loss2)\n",
    "    #res = torch.mean(log_P_wCs-T_w-(log_P_wCs_shuffled-T_w))\n",
    "    kl.append((-loss).data.cpu().numpy().item())\n",
    "    model.zero_grad()\n",
    "    loss.backward()\n",
    "    optimizer.step()\n",
    "\n",
    "x_plot = [x for x in range(num_epoch)]\n",
    "plt.plot(x_plot, kl)\n",
    "################################################################################################\n",
    "import json\n",
    "class NumpyArrayEncoder(json.JSONEncoder):\n",
    "    def default(self, obj):\n",
    "        if isinstance(obj, np.ndarray):\n",
    "            return obj.tolist()\n",
    "        return json.JSONEncoder.default(self, obj)\n",
    "with open(\"kl_result/p=4_gaussian_full_beta=10.json\", \"w\") as outfile:\n",
    "    outfile.write(json.dumps(kl,cls=NumpyArrayEncoder))\n",
    "################################################################################################\n",
    "kl[len(kl)-1]"
   ]
  },
  {
   "cell_type": "code",
   "execution_count": 10,
   "metadata": {},
   "outputs": [
    {
     "data": {
      "text/plain": [
       "0.6595008850097657"
      ]
     },
     "execution_count": 10,
     "metadata": {},
     "output_type": "execute_result"
    }
   ],
   "source": [
    "np.mean(kl[460:])"
   ]
  },
  {
   "cell_type": "code",
   "execution_count": 11,
   "metadata": {},
   "outputs": [
    {
     "data": {
      "text/plain": [
       "0.6718581664562225"
      ]
     },
     "execution_count": 11,
     "metadata": {},
     "output_type": "execute_result"
    }
   ],
   "source": [
    "np.mean(kl[400:])"
   ]
  },
  {
   "cell_type": "code",
   "execution_count": 6,
   "metadata": {},
   "outputs": [
    {
     "data": {
      "text/plain": [
       "0.3939213532805443"
      ]
     },
     "execution_count": 6,
     "metadata": {},
     "output_type": "execute_result"
    }
   ],
   "source": [
    "np.mean(kl[250:])"
   ]
  },
  {
   "cell_type": "code",
   "execution_count": 7,
   "metadata": {},
   "outputs": [
    {
     "data": {
      "text/plain": [
       "0.19437311326464018"
      ]
     },
     "execution_count": 7,
     "metadata": {},
     "output_type": "execute_result"
    }
   ],
   "source": [
    "np.mean(kl[200:])"
   ]
  },
  {
   "cell_type": "code",
   "execution_count": 8,
   "metadata": {},
   "outputs": [
    {
     "data": {
      "text/plain": [
       "tensor(1.5691, grad_fn=<MeanBackward0>)"
      ]
     },
     "execution_count": 8,
     "metadata": {},
     "output_type": "execute_result"
    }
   ],
   "source": [
    "T_w = model(w_sample)\n",
    "res = torch.mean(log_P_wCs-T_w-(log_P_wCs_shuffled-T_w))\n",
    "#res = -torch.log(torch.mean(torch.exp(log_P_wCs_shuffled-T_w)))+(-torch.log(torch.mean(torch.exp(-log_P_wCs+T_w))))\n",
    "res"
   ]
  },
  {
   "cell_type": "markdown",
   "metadata": {},
   "source": [
    "每一个的很奇怪，但是合起来就是正确的值！"
   ]
  },
  {
   "cell_type": "code",
   "execution_count": 9,
   "metadata": {},
   "outputs": [],
   "source": [
    "torch.save(model,'pw_res/model_lk_b=10_s=0.5_p={0}.pth'.format(p_current))"
   ]
  },
  {
   "cell_type": "markdown",
   "metadata": {},
   "source": [
    "L:\n",
    "\n",
    "(20,0.5235753059387207)\n",
    "(21,0.6030466437339783)\n",
    "(24,0.584551465511322)\n"
   ]
  }
 ],
 "metadata": {
  "kernelspec": {
   "display_name": "Python 3",
   "language": "python",
   "name": "python3"
  },
  "language_info": {
   "codemirror_mode": {
    "name": "ipython",
    "version": 3
   },
   "file_extension": ".py",
   "mimetype": "text/x-python",
   "name": "python",
   "nbconvert_exporter": "python",
   "pygments_lexer": "ipython3",
   "version": "3.7.8"
  },
  "orig_nbformat": 4
 },
 "nbformat": 4,
 "nbformat_minor": 2
}
