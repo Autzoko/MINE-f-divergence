{
 "cells": [
  {
   "cell_type": "code",
   "execution_count": 4,
   "metadata": {},
   "outputs": [],
   "source": [
    "import torch\n",
    "import matplotlib.pyplot as plt\n",
    "from Gibbs import generate_sw_tuples_batch\n",
    "from MINE import MINE\n",
    "from tqdm import tqdm\n",
    "from torch.autograd import Variable\n",
    "import numpy as np\n",
    "from Sample_Gibbs_from_Gaussian import sample_w\n",
    "import random\n",
    "import os\n",
    "def seed_torch(seed=1029):\n",
    "\trandom.seed(seed)\n",
    "\tos.environ['PYTHONHASHSEED'] = str(seed) # 为了禁止hash随机化，使得实验可复现\n",
    "\tnp.random.seed(seed)\n",
    "\ttorch.manual_seed(seed)\n",
    "\ttorch.cuda.manual_seed(seed)\n",
    "\ttorch.cuda.manual_seed_all(seed) # if you are using multi-GPU.\n",
    "\ttorch.backends.cudnn.benchmark = False\n",
    "\ttorch.backends.cudnn.deterministic = True\n",
    "seed_torch(0)\n",
    "\n",
    "p_current = 4 #p值\n",
    "sample_size = 50000 #用来估计的样本数\n",
    "iter_size = 50000\n",
    "model = MINE(20, p_current)\n",
    "optimizer = torch.optim.Adam(model.parameters(), lr=0.01)\n",
    "plot_loss = []\n",
    "\n"
   ]
  },
  {
   "cell_type": "code",
   "execution_count": 5,
   "metadata": {},
   "outputs": [
    {
     "data": {
      "text/plain": [
       "'\\nif torch.cuda.is_available():\\n  torch.set_default_tensor_type(torch.cuda.FloatTensor)\\n  print(\"using cuda:\", torch.cuda.get_device_name(0))\\n  pass\\n\\ndevice = torch.device(\"cuda\" if torch.cuda.is_available\\n            else \"cpu\")\\n\\nprint(device)\\n\\nmodel = torch.load(\\'./model_kl_4.pth\\')\\noptimizer = torch.optim.Adam(model.parameters(), lr=0.02)\\n'"
      ]
     },
     "execution_count": 5,
     "metadata": {},
     "output_type": "execute_result"
    }
   ],
   "source": [
    "'''\n",
    "if torch.cuda.is_available():\n",
    "  torch.set_default_tensor_type(torch.cuda.FloatTensor)\n",
    "  print(\"using cuda:\", torch.cuda.get_device_name(0))\n",
    "  pass\n",
    "\n",
    "device = torch.device(\"cuda\" if torch.cuda.is_available\n",
    "            else \"cpu\")\n",
    "\n",
    "print(device)\n",
    "\n",
    "model = torch.load('./model_kl_4.pth')\n",
    "optimizer = torch.optim.Adam(model.parameters(), lr=0.02)\n",
    "'''"
   ]
  },
  {
   "cell_type": "code",
   "execution_count": 6,
   "metadata": {},
   "outputs": [
    {
     "name": "stderr",
     "output_type": "stream",
     "text": [
      "100%|██████████| 1000/1000 [2:38:01<00:00,  9.48s/it] \n"
     ]
    },
    {
     "data": {
      "text/plain": [
       "0.01950254663825035"
      ]
     },
     "execution_count": 6,
     "metadata": {},
     "output_type": "execute_result"
    },
    {
     "data": {
      "image/png": "[encoded data removed]",
      "text/plain": [
       "<Figure size 432x288 with 1 Axes>"
      ]
     },
     "metadata": {
      "needs_background": "light"
     },
     "output_type": "display_data"
    }
   ],
   "source": [
    "################################################################\n",
    "original_random_state = np.random.get_state()\n",
    "np.random.seed(20230929)\n",
    "#gaussian distribution sampler: normal(mean=0.0, variance_sqrt=1.0, size=None) s = np.random.normal(0,1)\n",
    "#teacher model\n",
    "#dimension of x: d（固定不变）10->5\n",
    "d = 5\n",
    "#number of training samples（固定不变）100->20\n",
    "N = 20\n",
    "#dimension of hypothesis space\n",
    "p0 = 5 #dimension of teacher model（固定不变）\n",
    "p = p_current #dimension of student model（可变）#p=200\n",
    "p_max = 2000 #upper bound of dimension of student model（固定不变）\n",
    "#point-wise activate function f:tanh\n",
    "#variance of random noise added to y\n",
    "sigma = 0.1\n",
    "\n",
    "#random feature matrix\n",
    "F0 = np.random.normal(0,1,(d,p0)) #生成teacher model的random feature matrix F0（固定不变）\n",
    "F = np.random.normal(0,1,(d,p_max))[:,:p] #生成student model的random feature matrix F(d*p)。先按照p_max的大小生成，再根据当前维度p的不同截取前p列形成每个p对应的F。\n",
    "    #注意，这个F对于一般的神经网络是可训练的，但是对于RFM为了简化直接设定为固定值。（固定不变）\n",
    "#teacher parameter w(p) with lambda = ? until each dim of Y~1e0\n",
    "lambda_ = 0.0001\n",
    "#w_0 = np.random.normal(0,sigma/np.sqrt(lambda_*N),p)\n",
    "w_0 = np.random.normal(0,1,p0) #生成teacher model的权重向量（固定不变）\n",
    "#w_0 = np.concatenate((w_0,np.zeros(5)),axis = 0)\n",
    "\n",
    "np.random.set_state(original_random_state)\n",
    "################################################################\n",
    "#rds = 3\n",
    "#original_random_state = np.random.get_state()\n",
    "#np.random.seed(20231020+rds)\n",
    "X_2n = np.random.normal(0,1,(2*N,d))\n",
    "#np.random.set_state(original_random_state)\n",
    "################################################################\n",
    "kl = []\n",
    "num_epoch = 1000\n",
    "for epoch in tqdm(range(num_epoch)):\n",
    "    w = []\n",
    "    U = []\n",
    "    for i in range(iter_size):\n",
    "        U_i = np.random.binomial(1,0.5,N) #bernoulli\n",
    "        indices = U_i + np.arange(0,2*N,2)\n",
    "        X = X_2n[U_i]\n",
    "        X_rf0 = np.tanh(X.dot(F0)/np.sqrt(d))\n",
    "        Y_pure = X_rf0.dot(w_0)\n",
    "        Y = Y_pure + np.random.normal(0,sigma,N) #由X通过teacher model（也就是F0和w_0）生成的Y\n",
    "        B = np.tanh(X.dot(F)/np.sqrt(d))\n",
    "        w_i = sample_w(p,N,10,0.5,B,Y,1)[0]\n",
    "        w.append(w_i)\n",
    "        U.append(U_i)\n",
    "    w = np.array(w)\n",
    "    U = np.array(U)\n",
    "    w_shuffle = np.random.permutation(w)\n",
    "    S_sample = Variable(torch.from_numpy(U).type(torch.FloatTensor), requires_grad=False)\n",
    "    w_sample = Variable(torch.from_numpy(w).type(torch.FloatTensor), requires_grad=False)\n",
    "    w_shuffle_sample = Variable(torch.from_numpy(w_shuffle).type(torch.FloatTensor), requires_grad=False)\n",
    "    pred_xy = model(S_sample, w_sample)\n",
    "    pred_x_y = model(S_sample, w_shuffle_sample)\n",
    "    \n",
    "    loss1 = - torch.mean(pred_xy)\n",
    "    loss2 = torch.log(torch.mean(torch.exp(pred_x_y)))\n",
    "    loss = (loss1 + loss2)\n",
    "    res = torch.mean(pred_xy-pred_x_y)\n",
    "    kl.append((res).data.cpu().numpy().item())\n",
    "    model.zero_grad()\n",
    "    loss.backward()\n",
    "    optimizer.step()\n",
    "\n",
    "x_plot = [x for x in range(num_epoch)]\n",
    "plt.plot(x_plot, kl)\n",
    "################################################################################################\n",
    "import json\n",
    "class NumpyArrayEncoder(json.JSONEncoder):\n",
    "    def default(self, obj):\n",
    "        if isinstance(obj, np.ndarray):\n",
    "            return obj.tolist()\n",
    "        return json.JSONEncoder.default(self, obj)\n",
    "with open(\"kl_result/p=4_gaussian.json\", \"w\") as outfile:\n",
    "    outfile.write(json.dumps(kl,cls=NumpyArrayEncoder))\n",
    "################################################################################################\n",
    "kl[len(kl)-1]"
   ]
  },
  {
   "cell_type": "code",
   "execution_count": 7,
   "metadata": {},
   "outputs": [
    {
     "data": {
      "text/plain": [
       "0.018319550501182676"
      ]
     },
     "execution_count": 7,
     "metadata": {},
     "output_type": "execute_result"
    }
   ],
   "source": [
    "np.mean(kl[900:])"
   ]
  },
  {
   "cell_type": "markdown",
   "metadata": {},
   "source": [
    "seed result\n",
    "0 0.01840\n",
    "1 0.02294\n",
    "2 0.02479\n",
    "3 0.01333\n",
    "4 0.02507\n"
   ]
  },
  {
   "cell_type": "markdown",
   "metadata": {},
   "source": [
    "20231020+p\n",
    "0 0.01315\n",
    "1 0.00733\n",
    "2 0.03138\n",
    "3 0.03456"
   ]
  },
  {
   "cell_type": "markdown",
   "metadata": {},
   "source": [
    "reverse:\n",
    "0 0.019298\n",
    "1 0.005->0.02322\n",
    "2 0.02557\n",
    "3 0.01420"
   ]
  }
 ],
 "metadata": {
  "kernelspec": {
   "display_name": "Python 3",
   "language": "python",
   "name": "python3"
  },
  "language_info": {
   "codemirror_mode": {
    "name": "ipython",
    "version": 3
   },
   "file_extension": ".py",
   "mimetype": "text/x-python",
   "name": "python",
   "nbconvert_exporter": "python",
   "pygments_lexer": "ipython3",
   "version": "3.7.8"
  },
  "orig_nbformat": 4
 },
 "nbformat": 4,
 "nbformat_minor": 2
}
